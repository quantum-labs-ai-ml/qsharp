{
  "cells": [
    {
      "cell_type": "markdown",
      "id": "ae56fce0",
      "metadata": {},
      "source": [
        "# Q# Interop with OpenQASM"
      ]
    },
    {
      "cell_type": "markdown",
      "id": "2b838c23",
      "metadata": {},
      "source": [
        "The modern QDK provides interoperability with OpenQASM 3 programs built upon the core Q# compiler infrastructure.\n",
        "\n",
        "This core enables integration and local resource estimation without relying on external tools. Users are able to estimate resources for their OpenQASM programs locally (see the [resource estimation with Qiskit sample notebook](../../estimation/estimation-openqasm.ipynb)), leveraging the Q# compiler's capabilities for analysis, transformation, code generation, and simulation. This also enables the generation of QIR from OpenQASM progams leveraging the [modern QDKs advanced code generation capabilities](https://devblogs.microsoft.com/qsharp/integrated-hybrid-support-in-the-azure-quantum-development-kit/).\n",
        "\n",
        "This includes support for classical instructions available in OpenQASM such as for loops, if statements, switch statements, while loops, binary expresssions, and more."
      ]
    },
    {
      "cell_type": "markdown",
      "id": "9fed5ba5",
      "metadata": {},
      "source": [
        "Import the Q# module.\n",
        "\n",
        "This enables the `%%qsharp` magic and initializes a Q# interpreter singleton."
      ]
    },
    {
      "cell_type": "code",
      "execution_count": null,
      "id": "75b8b81b",
      "metadata": {},
      "outputs": [],
      "source": [
        "import qsharp\n",
        "qsharp.init(target_profile=qsharp.TargetProfile.Base)"
      ]
    },
    {
      "cell_type": "markdown",
      "id": "95d82f22",
      "metadata": {},
      "source": [
        "### Run OpenQASM 3 Code in interactive session\n",
        "Interactive sessions have different semantics from program execution. We no longer have inferred output and input. Instead we treat qasm lines as code fragments and interpret them one at a time (though they are all compiled together). Due to scoping rules in qasm3, all code used in the the program must be defined in the snippet and can't use compilation state from other cells or calls.\n",
        "\n",
        "We can add an optional name parameter to compile the program into a callable operation in the interactive session."
      ]
    },
    {
      "cell_type": "code",
      "execution_count": null,
      "id": "012cc902",
      "metadata": {},
      "outputs": [],
      "source": [
        "%%qasm3 --name bell\n",
        "include \"stdgates.inc\";\n",
        "qubit[2] q;\n",
        "h q[0];\n",
        "cx q[0], q[1];\n",
        "bit[2] c;\n",
        "c[0] = measure q[0];\n",
        "c[1] = measure q[1];"
      ]
    },
    {
      "cell_type": "markdown",
      "id": "b95a0c8b",
      "metadata": {},
      "source": [
        "With the OpenQASM program loaded into a callable name `bell`, we can now import it via the QDK's Python bindings:"
      ]
    },
    {
      "cell_type": "code",
      "execution_count": null,
      "id": "db043bda",
      "metadata": {},
      "outputs": [],
      "source": [
        "from qsharp.code import bell\n",
        "bell()"
      ]
    },
    {
      "cell_type": "markdown",
      "id": "8db074dc",
      "metadata": {},
      "source": [
        "Additionally, since it is defined in the session, we can run it directly from a Q# cell:"
      ]
    },
    {
      "cell_type": "code",
      "execution_count": null,
      "id": "ad6d0331",
      "metadata": {
        "vscode": {
          "languageId": "qsharp"
        }
      },
      "outputs": [],
      "source": [
        "%%qsharp\n",
        "bell()"
      ]
    },
    {
      "cell_type": "markdown",
      "id": "6578cadc",
      "metadata": {},
      "source": [
        "This also unlocks all of the other `qsharp` package functionality. Like noisy simulation:"
      ]
    },
    {
      "cell_type": "code",
      "execution_count": null,
      "id": "5bbd6d92",
      "metadata": {},
      "outputs": [],
      "source": [
        "from qsharp_widgets import Histogram\n",
        "\n",
        "Histogram(qsharp.run(\"bell()\", shots=1000, noise=qsharp.DepolarizingNoise(0.01)))"
      ]
    },
    {
      "cell_type": "markdown",
      "id": "85d48772",
      "metadata": {},
      "source": [
        "Circuit rendering:"
      ]
    },
    {
      "cell_type": "code",
      "execution_count": null,
      "id": "a0a50634",
      "metadata": {},
      "outputs": [],
      "source": [
        "qsharp.circuit(qsharp.code.bell)"
      ]
    },
    {
      "cell_type": "markdown",
      "id": "5865ea0c",
      "metadata": {},
      "source": [
        "Circuit widget rendering:"
      ]
    },
    {
      "cell_type": "code",
      "execution_count": null,
      "id": "c3fc87ae",
      "metadata": {},
      "outputs": [],
      "source": [
        "from qsharp_widgets import Circuit\n",
        "Circuit(qsharp.circuit(qsharp.code.bell))"
      ]
    },
    {
      "cell_type": "markdown",
      "id": "0e1a29c8",
      "metadata": {},
      "source": [
        "Code generation:"
      ]
    },
    {
      "cell_type": "code",
      "execution_count": null,
      "id": "ec6db1e5",
      "metadata": {},
      "outputs": [],
      "source": [
        "print(qsharp.compile(bell))"
      ]
    },
    {
      "cell_type": "markdown",
      "id": "759f6a5e",
      "metadata": {},
      "source": [
        "We can also define input for the compiled OpenQASM code so that we can parameterize input:"
      ]
    },
    {
      "cell_type": "code",
      "execution_count": null,
      "id": "bd179f1a",
      "metadata": {},
      "outputs": [],
      "source": [
        "%%qasm3 --name needs_args\n",
        "include \"stdgates.inc\";\n",
        "input float theta;\n",
        "qubit[2] q;\n",
        "rx(theta) q[0];\n",
        "rx(-theta) q[1];\n",
        "bit[2] c;\n",
        "c[0] = measure q[0];\n",
        "c[1] = measure q[1];"
      ]
    },
    {
      "cell_type": "code",
      "execution_count": null,
      "id": "5b7a97d2",
      "metadata": {},
      "outputs": [],
      "source": [
        "from qsharp.code import needs_args\n",
        "print(qsharp.compile(needs_args, 1.57))"
      ]
    },
    {
      "cell_type": "markdown",
      "id": "3a821443",
      "metadata": {},
      "source": [
        "Any library that exports to OpenQASM 3 can now integrate into the QDK's ecosystem.\n",
        "\n",
        "Let's take a look at cirq for example"
      ]
    },
    {
      "cell_type": "code",
      "execution_count": null,
      "id": "b7ee6d8b",
      "metadata": {},
      "outputs": [],
      "source": [
        "try:\n",
        "    import cirq\n",
        "except ImportError:\n",
        "    print(\"installing cirq...\")\n",
        "    !pip install cirq\n",
        "    import cirq\n",
        "    print(\"installed cirq.\")"
      ]
    },
    {
      "cell_type": "markdown",
      "id": "47b1f488",
      "metadata": {},
      "source": [
        "With cirq installed, we'll build up some utilities to create a Bernstein-Vazirani circuit"
      ]
    },
    {
      "cell_type": "code",
      "execution_count": null,
      "id": "77c85028",
      "metadata": {},
      "outputs": [],
      "source": [
        "import random\n",
        "import cirq\n",
        "\n",
        "def make_oracle(input_qubits, output_qubit, secret_factor_bits, secret_bias_bit):\n",
        "    \"\"\"Gates implementing the function f(a) = a·factors + bias (mod 2).\"\"\"\n",
        "\n",
        "    if secret_bias_bit:\n",
        "        yield cirq.X(output_qubit)\n",
        "\n",
        "    for qubit, bit in zip(input_qubits, secret_factor_bits):\n",
        "        if bit:  # pragma: no cover\n",
        "            yield cirq.CNOT(qubit, output_qubit)\n",
        "\n",
        "\n",
        "def make_bernstein_vazirani_circuit_with_cirq(input_qubits, output_qubit, oracle):\n",
        "    \"\"\"Solves for factors in f(a) = a·factors + bias (mod 2) with one query.\"\"\"\n",
        "\n",
        "    c = cirq.Circuit()\n",
        "\n",
        "    # Initialize qubits.\n",
        "    c.append([cirq.X(output_qubit), cirq.H(output_qubit), cirq.H.on_each(*input_qubits)])\n",
        "\n",
        "    # Query oracle.\n",
        "    c.append(oracle)\n",
        "\n",
        "    # Measure in X basis.\n",
        "    c.append([cirq.H.on_each(*input_qubits), cirq.measure(*input_qubits, key='result')])\n",
        "\n",
        "    return c\n",
        "\n",
        "\n",
        "def bitstring(bits):\n",
        "    return ''.join(str(int(b)) for b in bits)"
      ]
    },
    {
      "cell_type": "markdown",
      "id": "514773b6",
      "metadata": {},
      "source": [
        "And we'll call the code to build the circuit"
      ]
    },
    {
      "cell_type": "code",
      "execution_count": null,
      "id": "c8e1746a",
      "metadata": {},
      "outputs": [],
      "source": [
        "import qsharp\n",
        "from qsharp.interop.qasm3 import eval, estimate, import_callable\n",
        "from qsharp import init\n",
        "init(target_profile=qsharp.TargetProfile.Base)\n",
        "\n",
        "qubit_count=8\n",
        "\n",
        "# Choose qubits to use.\n",
        "input_qubits = [cirq.GridQubit(i, 0) for i in range(qubit_count)]\n",
        "output_qubit = cirq.GridQubit(qubit_count, 0)\n",
        "\n",
        "# Pick coefficients for the oracle and create a circuit to query it.\n",
        "secret_bias_bit = random.randint(0, 1)\n",
        "secret_factor_bits = [random.randint(0, 1) for _ in range(qubit_count)]\n",
        "oracle = make_oracle(input_qubits, output_qubit, secret_factor_bits, secret_bias_bit)\n",
        "print(\n",
        "    'Secret function:\\nf(a) = '\n",
        "    f\"a·<{', '.join(str(e) for e in secret_factor_bits)}> + \"\n",
        "    f\"{secret_bias_bit} (mod 2)\"\n",
        ")\n",
        "\n",
        "circuit = make_bernstein_vazirani_circuit_with_cirq(input_qubits, output_qubit, oracle)"
      ]
    },
    {
      "cell_type": "markdown",
      "id": "683d3d8d",
      "metadata": {},
      "source": [
        "We can now see the OpenQASM 3 equivalent program"
      ]
    },
    {
      "cell_type": "code",
      "execution_count": null,
      "id": "ea2acea4",
      "metadata": {},
      "outputs": [],
      "source": [
        "qasm_str = cirq.qasm(circuit, args=cirq.QasmArgs(version=\"3.0\"))\n",
        "print(qasm_str)"
      ]
    },
    {
      "cell_type": "markdown",
      "id": "deeaad51",
      "metadata": {},
      "source": [
        "And leverage the QDK resource estimation capabilities for the cirq circuit"
      ]
    },
    {
      "cell_type": "code",
      "execution_count": null,
      "id": "1a0c5d95",
      "metadata": {},
      "outputs": [],
      "source": [
        "# use QDK resource estimation on cirq circuit via QASM3\n",
        "estimate(cirq.qasm(circuit, args=cirq.QasmArgs(version=\"3.0\")))"
      ]
    },
    {
      "cell_type": "markdown",
      "id": "1fd7f006",
      "metadata": {},
      "source": [
        "If a library allows for classical controls or branching, any ouput OpenQASM they generate is consumable:"
      ]
    },
    {
      "cell_type": "code",
      "execution_count": null,
      "id": "fd1a046a",
      "metadata": {},
      "outputs": [],
      "source": [
        "q0, q1 = cirq.LineQubit.range(2)\n",
        "circuit = cirq.Circuit(\n",
        "    cirq.H(q0),\n",
        "    cirq.measure(q0, key='a'),\n",
        "    cirq.H(q1).with_classical_controls('a'),\n",
        "    cirq.measure(q1, key='b'),\n",
        ")\n",
        "print(circuit)\n",
        "print(cirq.qasm(circuit, args=cirq.QasmArgs(version=\"3.0\")))"
      ]
    },
    {
      "cell_type": "code",
      "execution_count": null,
      "id": "e7a21606",
      "metadata": {},
      "outputs": [],
      "source": [
        "alice = cirq.NamedQubit('alice')\n",
        "bob = cirq.NamedQubit('bob')\n",
        "message = cirq.NamedQubit('_message')\n",
        "\n",
        "message_circuit = cirq.Circuit(\n",
        "    # Create the message.\n",
        "    cirq.X(message) ** 0.371,\n",
        "    cirq.Y(message) ** 0.882,\n",
        ")\n",
        "\n",
        "circuit = cirq.Circuit(\n",
        "    # Create Bell state to be shared between Alice and Bob.\n",
        "    cirq.H(alice),\n",
        "    cirq.CNOT(alice, bob),\n",
        "    # Prepare message circuit\n",
        "    message_circuit,\n",
        "    # Bell measurement of the message and Alice's entangled qubit.\n",
        "    cirq.CNOT(message, alice),\n",
        "    cirq.H(message),\n",
        "    cirq.measure(message, key='M'),\n",
        "    cirq.measure(alice, key='A'),\n",
        "    # Uses the two classical bits from the Bell measurement to recover the\n",
        "    # original quantum message on Bob's entangled qubit.\n",
        "    cirq.X(bob).with_classical_controls('A'),\n",
        "    cirq.Z(bob).with_classical_controls('M'),\n",
        ")\n",
        "print(circuit)\n",
        "print(cirq.qasm(circuit, args=cirq.QasmArgs(version=\"3.0\")))"
      ]
    },
    {
      "cell_type": "code",
      "execution_count": null,
      "id": "c29d9f86",
      "metadata": {},
      "outputs": [],
      "source": [
        "import cirq\n",
        "from qsharp.interop.qasm3 import estimate\n",
        "\n",
        "q0 = cirq.LineQubit(0)\n",
        "subcircuit = cirq.FrozenCircuit(cirq.measure(q0, key='a'), cirq.X(q0).with_classical_controls('a'))\n",
        "circuit = cirq.Circuit(\n",
        "    cirq.measure(q0, key='a'),\n",
        "    cirq.CircuitOperation(subcircuit, repetitions=2),\n",
        "    cirq.X(q0).with_classical_controls('a'),\n",
        ")\n",
        "print(cirq.qasm(circuit, args=cirq.QasmArgs(version=\"3.0\")))\n",
        "estimate(cirq.qasm(circuit, args=cirq.QasmArgs(version=\"3.0\")))"
      ]
    }
  ],
  "metadata": {
    "kernelspec": {
      "display_name": ".venv",
      "language": "python",
      "name": "python3"
    },
    "language_info": {
      "codemirror_mode": {
        "name": "ipython",
        "version": 3
      },
      "file_extension": ".py",
      "mimetype": "text/x-python",
      "name": "python",
      "nbconvert_exporter": "python",
      "pygments_lexer": "ipython3",
      "version": "3.12.9"
    }
  },
  "nbformat": 4,
  "nbformat_minor": 5
}
