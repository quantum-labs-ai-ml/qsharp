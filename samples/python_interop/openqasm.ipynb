{
  "cells": [
    {
      "cell_type": "markdown",
      "id": "ae56fce0",
      "metadata": {},
      "source": [
        "# Q# Interop with OpenQASM"
      ]
    },
    {
      "cell_type": "markdown",
      "id": "2b838c23",
      "metadata": {},
      "source": [
        "The modern QDK provides interoperability with OpenQASM 3 programs built upon the core Q# compiler infrastructure.\n",
        "\n",
        "This core enables integration and local resource estimation without relying on external tools. Users are able to estimate resources for their OpenQASM programs locally (see the [resource estimation with Qiskit sample notebook](../../estimation/estimation-openqasm.ipynb)), leveraging the Q# compiler's capabilities for analysis, transformation, code generation, and simulation. This also enables the generation of QIR from OpenQASM progams leveraging the [modern QDKs advanced code generation capabilities](https://devblogs.microsoft.com/qsharp/integrated-hybrid-support-in-the-azure-quantum-development-kit/).\n",
        "\n",
        "This includes support for classical instructions available in OpenQASM such as for loops, if statements, switch statements, while loops, binary expresssions, and more."
      ]
    },
    {
      "cell_type": "markdown",
      "id": "4f761649",
      "metadata": {},
      "source": [
        "## Running Qiskit circuits\n",
        "The `QSharpBackend` backend is the main class to interact with for running circuits and generating QIR.\n",
        "\n",
        "To start, we'll set up a simple circuit with a prepared state."
      ]
    },
    {
      "cell_type": "code",
      "execution_count": null,
      "id": "e91dd2d7",
      "metadata": {},
      "outputs": [],
      "source": [
        "from qiskit import QuantumCircuit\n",
        "import numpy as np\n",
        "\n",
        "circuit = QuantumCircuit(2, 2)\n",
        "circuit.name = \"state_prep\"\n",
        "\n",
        "# State vector to initialize: |ψ⟩ = (|0⟩ - |1⟩) / √2\n",
        "circuit.initialize([1 / np.sqrt(2), -1 / np.sqrt(2)], 0)\n",
        "circuit.h(0)\n",
        "circuit.measure(0, 0)\n",
        "\n",
        "circuit.prepare_state([1 / np.sqrt(2), -1 / np.sqrt(2)], 1)\n",
        "circuit.h(1)\n",
        "circuit.measure(1, 1)\n",
        "\n",
        "circuit.draw(output=\"text\")"
      ]
    },
    {
      "cell_type": "markdown",
      "id": "922f8420",
      "metadata": {},
      "source": [
        "With the circuit created, we can run the circuit with Q#'s backend. By default, it will use the `Unrestricted` profile meaning anything is allowed for simulation."
      ]
    },
    {
      "cell_type": "code",
      "execution_count": null,
      "id": "7c69aeac",
      "metadata": {},
      "outputs": [],
      "source": [
        "from qsharp.interop.qiskit import QSharpBackend\n",
        "\n",
        "backend = QSharpBackend()\n",
        "job = backend.run(circuit)\n",
        "counts = job.result().get_counts()\n",
        "print(counts)"
      ]
    },
    {
      "cell_type": "markdown",
      "id": "9c84df75",
      "metadata": {},
      "source": [
        "## Parameterized Qiskit circuits\n",
        "\n",
        "Some circuits require parameters as input. To start, we'll define utility functions to create parameterized circuit(s)."
      ]
    },
    {
      "cell_type": "code",
      "execution_count": null,
      "id": "5d766661",
      "metadata": {},
      "outputs": [],
      "source": [
        "from typing import List\n",
        "\n",
        "import numpy as np\n",
        "from qiskit import QuantumCircuit\n",
        "from qiskit.circuit import Parameter\n",
        "\n",
        "\n",
        "def get_theta_range(samples: int) -> List[float]:\n",
        "    return np.linspace(0, 2 * np.pi, samples)\n",
        "\n",
        "\n",
        "def get_parameterized_circuit(n: int) -> QuantumCircuit:\n",
        "    theta = Parameter(\"θ\")\n",
        "    n = 5\n",
        "    qc = QuantumCircuit(n, 1)\n",
        "    qc.h(0)\n",
        "    for i in range(n - 1):\n",
        "        qc.cx(i, i + 1)\n",
        "    qc.barrier()\n",
        "    qc.rz(theta, range(n))\n",
        "    qc.barrier()\n",
        "\n",
        "    for i in reversed(range(n - 1)):\n",
        "        qc.cx(i, i + 1)\n",
        "    qc.h(0)\n",
        "    qc.measure(0, 0)\n",
        "    return qc\n",
        "\n",
        "\n",
        "def get_parameterized_circuits(n: int, theta_range: List[float]) -> List[QuantumCircuit]:\n",
        "    qc = get_parameterized_circuit(n)\n",
        "    qc.draw()\n",
        "    theta = qc.parameters[0]\n",
        "    circuits = [qc.assign_parameters({theta: theta_val}) for theta_val in theta_range]\n",
        "    return circuits"
      ]
    },
    {
      "cell_type": "markdown",
      "id": "d6b97850",
      "metadata": {},
      "source": [
        "Attempting to run without binding all input will generate an error in the job."
      ]
    },
    {
      "cell_type": "code",
      "execution_count": null,
      "id": "4e05b81e",
      "metadata": {},
      "outputs": [],
      "source": [
        "from qsharp import QSharpError, TargetProfile\n",
        "from qsharp.interop.qiskit import QSharpBackend\n",
        "\n",
        "circuit = get_parameterized_circuit(3)\n",
        "backend = QSharpBackend()\n",
        "try:\n",
        "    backend.qir(circuit, target_profile=TargetProfile.Base)\n",
        "except QSharpError as e:\n",
        "    print(e)"
      ]
    },
    {
      "cell_type": "markdown",
      "id": "ee4d57b4",
      "metadata": {},
      "source": [
        "Any parameters must be bound before we can run the circuit. As we can see from the exception output, we must define the value for the input parameter `θ`. To do this, set the `params` argument to the `run` function."
      ]
    },
    {
      "cell_type": "code",
      "execution_count": null,
      "id": "d9bb3eb0",
      "metadata": {},
      "outputs": [],
      "source": [
        "from qsharp.interop.qiskit import QSharpBackend\n",
        "\n",
        "circuit = get_parameterized_circuit(3)\n",
        "backend = QSharpBackend()\n",
        "\n",
        "circuit.assign_parameters(\n",
        "    {\"θ\": \"0.5\"},\n",
        "    inplace=True,\n",
        ")\n",
        "job = backend.run(circuit)\n",
        "counts = job.result().get_counts()\n",
        "print(counts)"
      ]
    },
    {
      "cell_type": "markdown",
      "id": "974b3131",
      "metadata": {},
      "source": [
        "## Classical instructions in circuits"
      ]
    },
    {
      "cell_type": "markdown",
      "id": "42f916c9",
      "metadata": {},
      "source": [
        "### Run Qiskit with classical instructions\n",
        "Qiskit has begun implementing some classical computation support as they expand their OpenQASM 3 support. These constructs, insofar as Qiskit can export them, can be consumed by Q#.\n",
        "\n",
        "As an example, we can create a classical switch statement in Qiskit and run the program."
      ]
    },
    {
      "cell_type": "code",
      "execution_count": null,
      "id": "30d29199",
      "metadata": {},
      "outputs": [],
      "source": [
        "from qiskit import ClassicalRegister, QuantumRegister\n",
        "from qiskit.circuit import (\n",
        "    QuantumCircuit,\n",
        ")\n",
        "\n",
        "from qsharp import QSharpError, TargetProfile\n",
        "\n",
        "qreg = QuantumRegister(3, name=\"q\")\n",
        "creg = ClassicalRegister(3, name=\"c\")\n",
        "qc = QuantumCircuit(qreg, creg)\n",
        "qc.h([0, 1, 2])\n",
        "qc.measure_all(add_bits=False)\n",
        "\n",
        "with qc.switch(creg) as case:\n",
        "    with case(7):\n",
        "        qc.x(0)\n",
        "    with case(1, 2):\n",
        "        qc.z(1)\n",
        "    with case(case.DEFAULT):\n",
        "        qc.cx(0, 1)\n",
        "qc.measure_all(add_bits=False)\n",
        "\n",
        "backend = QSharpBackend()\n",
        "\n",
        "print(backend.run(qc).result())"
      ]
    },
    {
      "cell_type": "markdown",
      "id": "fea9051a",
      "metadata": {},
      "source": [
        "Using that same circuit, we can generate QIR which is used to run on quantum hardware."
      ]
    },
    {
      "cell_type": "code",
      "execution_count": null,
      "id": "0081f6f0",
      "metadata": {},
      "outputs": [],
      "source": [
        "backend = QSharpBackend(target_profile=TargetProfile.Adaptive_RI)\n",
        "print(backend.qir(qc))\n",
        "from qsharp.interop.qasm3 import eval, estimate, import_callable"
      ]
    },
    {
      "cell_type": "markdown",
      "id": "97184460",
      "metadata": {},
      "source": [
        "Not all programs can run on all hardware. Here we can try to target the `Base` profile, but we will get detailed errors on which parts of the program aren't supported."
      ]
    },
    {
      "cell_type": "code",
      "execution_count": null,
      "id": "06c31a67",
      "metadata": {},
      "outputs": [],
      "source": [
        "try:\n",
        "    backend.qir(qc, target_profile=TargetProfile.Base)\n",
        "except QSharpError as e:\n",
        "    print(e)"
      ]
    },
    {
      "cell_type": "markdown",
      "id": "b06b7857",
      "metadata": {},
      "source": [
        "## Errors\n",
        "#### Unsupported language features, `QasmError`, and `QSharpError`\n",
        "The modern QDK's interop with Qiskit is based on Qiskit's OpenQASM 3 support. Qiskit supports a subset of OpenQASM 3 features which may cause issues during conversion.\n",
        "\n",
        "If the Qiskit OpenQASM `Exporter` or OpenQASM parser don't support the feature yet, a `QasmError` is raised prior to conversion. When an OpenQASM parsing failure occurs, this is likely an issue with the Qiskit libraries parsing and/or export functionality. Additionally, failure to transform the OpenQASM into Q#'s internal representation will throw a `QasmError`. This is most likely due to a semantically invalid OpenQASM program as input or an unsupported language feauture is being used.\n",
        "\n",
        "If the program can't be compiled to QIR, has invalid input bindings, or encounters a runtime error, a `QSharpError` is raised.\n",
        "\n",
        "If the backend configuration is not valid for a given operation, a `ValueError` may be raised. This is most likely caused by trying to generate QIR with the `Unrestricted` profile."
      ]
    },
    {
      "cell_type": "markdown",
      "id": "d0f21006",
      "metadata": {},
      "source": [
        "### Semantic Errors\n",
        "It is still possible to create circuits that are semantically invalid. These will raise `QasmErrors` as the OpenQASM can't be compiled.\n",
        "\n",
        "\n",
        "We'll look at examples of each scenario.\n"
      ]
    },
    {
      "cell_type": "markdown",
      "id": "6ebacf90",
      "metadata": {},
      "source": [
        "#### General semantic errors\n",
        "Most common semantic errors arise from unsupported features:\n",
        "- No classical registers defined. If the circuit(s) being used do not measure into classical registers then the circuit is purely classical.\n",
        "- Aliases were used for classical registers.\n",
        "\n",
        "Example, creating a circuit without any output:"
      ]
    },
    {
      "cell_type": "code",
      "execution_count": null,
      "id": "b245c46c",
      "metadata": {},
      "outputs": [],
      "source": [
        "from qsharp.interop.qiskit import QasmError\n",
        "\n",
        "try:\n",
        "    circuit = QuantumCircuit(2)\n",
        "    circuit.x(0)\n",
        "    backend = QSharpBackend()\n",
        "    print(backend.run(circuit).result())\n",
        "except QasmError as ex:\n",
        "    print(ex)"
      ]
    },
    {
      "cell_type": "markdown",
      "id": "f2da9168",
      "metadata": {},
      "source": [
        "Example, using aliased classical registers:"
      ]
    },
    {
      "cell_type": "code",
      "execution_count": null,
      "id": "33fd3c4d",
      "metadata": {},
      "outputs": [],
      "source": [
        "from qsharp.interop.qiskit import QasmError\n",
        "\n",
        "try:\n",
        "    q = QuantumRegister(2, name=\"q\")\n",
        "    cr1 = ClassicalRegister(1, name=\"cr1\")\n",
        "    cr2 = ClassicalRegister(1, name=\"cr2\")\n",
        "    # Create a ClassicalRegister with bits from two different QuantumRegisters\n",
        "    # which is not supported by the Q# backend.\n",
        "    cr3 = ClassicalRegister(\n",
        "        name=\"cr3\",\n",
        "        bits=[\n",
        "            cr1[0],\n",
        "            cr2[0],\n",
        "        ],\n",
        "    )\n",
        "    qc = QuantumCircuit(q, cr1, cr2, cr3)\n",
        "\n",
        "    backend = QSharpBackend(target_profile=TargetProfile.Base)\n",
        "    backend.qir(qc)\n",
        "except QasmError as ex:\n",
        "    print(f\"Exception: {str(ex)}\")\n",
        "    # Print the cause of the exception if it exists.\n",
        "    # This will print the error message from Qiskit itself.\n",
        "    if ex.__cause__:\n",
        "        print(f\"Cause: {str(ex.__cause__)}\")"
      ]
    },
    {
      "cell_type": "markdown",
      "id": "62e33a40",
      "metadata": {},
      "source": [
        "#### QIR generation semantic errors\n",
        "\n",
        "When targetting harware by compiling to QIR there are additional restrictions which may cause compilation errors. Most common scenarios:\n",
        "- Trying to generate QIR when the profile is set to `Unrestricted`. `Unrestricted` is only valid for simulation. Either `TargetProfile.Base` or `TargetProfile.Adaptive_RI` must be used.\n",
        "- Not all bits in classical registers have been assigned to. Usually because there were no measurements, or extra registers were declared.\n",
        "\n"
      ]
    },
    {
      "cell_type": "markdown",
      "id": "ac63ad88",
      "metadata": {},
      "source": [
        "Example, generating QIR with `Unrestricted`"
      ]
    },
    {
      "cell_type": "code",
      "execution_count": null,
      "id": "10d7dcb0",
      "metadata": {},
      "outputs": [],
      "source": [
        "try:\n",
        "    circuit = QuantumCircuit(1)\n",
        "    circuit.x(0)\n",
        "    circuit.measure_all()\n",
        "    backend = QSharpBackend()\n",
        "    print(backend.qir(circuit))\n",
        "except ValueError as ex:\n",
        "    print(ex)"
      ]
    },
    {
      "cell_type": "markdown",
      "id": "fa219de1",
      "metadata": {},
      "source": [
        "To avoid this issue, set the `target_profile` argument either in the `QSharpBackend` creation or in the `backend.qir` call."
      ]
    },
    {
      "cell_type": "markdown",
      "id": "3170569e",
      "metadata": {},
      "source": [
        "When generating `QIR`, all output registers must be read into before generating QIR. Failure to do so results in a `QSharpError`.\n",
        "\n",
        "In this next example, we declare two output bits, but only measure into one. This causes an error because result values can only be a side effect of measurement, and cannot be used like classical variables when compiling for hardware."
      ]
    },
    {
      "cell_type": "code",
      "execution_count": null,
      "id": "071480db",
      "metadata": {},
      "outputs": [],
      "source": [
        "circuit = QuantumCircuit(2, 2)\n",
        "circuit.x(0)\n",
        "circuit.measure(0, 1)\n",
        "backend = QSharpBackend(target_profile=TargetProfile.Base)\n",
        "try:\n",
        "    print(backend.qir(circuit))\n",
        "except QSharpError as ex:\n",
        "    print(ex)"
      ]
    },
    {
      "cell_type": "code",
      "execution_count": null,
      "id": "75b8b81b",
      "metadata": {},
      "outputs": [],
      "source": [
        "import qsharp\n",
        "qsharp.init(target_profile=qsharp.TargetProfile.Base)"
      ]
    },
    {
      "cell_type": "code",
      "execution_count": null,
      "id": "012cc902",
      "metadata": {},
      "outputs": [],
      "source": [
        "%%qasm3 --name bell\n",
        "include \"stdgates.inc\";\n",
        "qubit[2] q;\n",
        "h q[0];\n",
        "cx q[0], q[1];\n",
        "bit[2] c;\n",
        "c[0] = measure q[0];\n",
        "c[1] = measure q[1];"
      ]
    },
    {
      "cell_type": "code",
      "execution_count": null,
      "id": "db043bda",
      "metadata": {},
      "outputs": [],
      "source": [
        "from qsharp.code import bell\n",
        "bell()"
      ]
    },
    {
      "cell_type": "code",
      "execution_count": null,
      "id": "ad6d0331",
      "metadata": {
        "vscode": {
          "languageId": "qsharp"
        }
      },
      "outputs": [],
      "source": [
        "%%qsharp\n",
        "bell()"
      ]
    },
    {
      "cell_type": "code",
      "execution_count": null,
      "id": "5bbd6d92",
      "metadata": {},
      "outputs": [],
      "source": [
        "from qsharp_widgets import Histogram\n",
        "\n",
        "Histogram(qsharp.run(\"bell()\", shots=1000, noise=qsharp.DepolarizingNoise(0.01)))"
      ]
    },
    {
      "cell_type": "code",
      "execution_count": null,
      "id": "a0a50634",
      "metadata": {},
      "outputs": [],
      "source": [
        "#qsharp.circuit(qsharp.code.bell2, 1.57)\n",
        "import qsharp.code\n",
        "from qsharp_widgets import Circuit\n",
        "qsharp.circuit(qsharp.code.bell)\n"
      ]
    },
    {
      "cell_type": "code",
      "execution_count": null,
      "id": "c3fc87ae",
      "metadata": {},
      "outputs": [],
      "source": [
        "from qsharp_widgets import Circuit\n",
        "Circuit(qsharp.circuit(qsharp.code.bell))"
      ]
    },
    {
      "cell_type": "code",
      "execution_count": null,
      "id": "ec6db1e5",
      "metadata": {},
      "outputs": [],
      "source": [
        "print(qsharp.compile(bell))"
      ]
    },
    {
      "cell_type": "code",
      "execution_count": null,
      "id": "bd179f1a",
      "metadata": {},
      "outputs": [],
      "source": [
        "%%qasm3 --name needs_args\n",
        "include \"stdgates.inc\";\n",
        "input float theta;\n",
        "qubit[2] q;\n",
        "rx(theta) q[0];\n",
        "rx(-theta) q[1];\n",
        "bit[2] c;\n",
        "c[0] = measure q[0];\n",
        "c[1] = measure q[1];"
      ]
    },
    {
      "cell_type": "code",
      "execution_count": null,
      "id": "5b7a97d2",
      "metadata": {},
      "outputs": [],
      "source": [
        "from qsharp.code import needs_args\n",
        "print(qsharp.compile(needs_args, 1.57))"
      ]
    },
    {
      "cell_type": "code",
      "execution_count": null,
      "id": "b7ee6d8b",
      "metadata": {},
      "outputs": [],
      "source": [
        "try:\n",
        "    import cirq\n",
        "except ImportError:\n",
        "    print(\"installing cirq...\")\n",
        "#    !pip install --upgrade pip\n",
        "    !pip install cirq\n",
        "    import cirq\n",
        "\n",
        "    print(\"installed cirq.\")"
      ]
    },
    {
      "cell_type": "code",
      "execution_count": null,
      "id": "77c85028",
      "metadata": {},
      "outputs": [],
      "source": [
        "import random\n",
        "import cirq\n",
        "\n",
        "def make_oracle(input_qubits, output_qubit, secret_factor_bits, secret_bias_bit):\n",
        "    \"\"\"Gates implementing the function f(a) = a·factors + bias (mod 2).\"\"\"\n",
        "\n",
        "    if secret_bias_bit:\n",
        "        yield cirq.X(output_qubit)\n",
        "\n",
        "    for qubit, bit in zip(input_qubits, secret_factor_bits):\n",
        "        if bit:  # pragma: no cover\n",
        "            yield cirq.CNOT(qubit, output_qubit)\n",
        "\n",
        "\n",
        "def make_bernstein_vazirani_circuit_with_cirq(input_qubits, output_qubit, oracle):\n",
        "    \"\"\"Solves for factors in f(a) = a·factors + bias (mod 2) with one query.\"\"\"\n",
        "\n",
        "    c = cirq.Circuit()\n",
        "\n",
        "    # Initialize qubits.\n",
        "    c.append([cirq.X(output_qubit), cirq.H(output_qubit), cirq.H.on_each(*input_qubits)])\n",
        "\n",
        "    # Query oracle.\n",
        "    c.append(oracle)\n",
        "\n",
        "    # Measure in X basis.\n",
        "    c.append([cirq.H.on_each(*input_qubits), cirq.measure(*input_qubits, key='result')])\n",
        "\n",
        "    return c\n",
        "\n",
        "\n",
        "def bitstring(bits):\n",
        "    return ''.join(str(int(b)) for b in bits)\n",
        "\n",
        "# Embed the oracle into a special quantum circuit querying it exactly once.\n",
        "#circuit = make_bernstein_vazirani_circuit_with_cirq(input_qubits, output_qubit, oracle)\n",
        "#print('Circuit:')\n",
        "#print(circuit)"
      ]
    },
    {
      "cell_type": "code",
      "execution_count": null,
      "id": "4504bcbf",
      "metadata": {},
      "outputs": [],
      "source": [
        "qasm_str = cirq.qasm(circuit, args=cirq.QasmArgs(version=\"3.0\"))\n",
        "#qasm_str = circuit.to_qasm(\"3.0\")\n",
        "print(qasm_str)\n",
        "#cirq.__version__"
      ]
    },
    {
      "cell_type": "code",
      "execution_count": null,
      "id": "c8e1746a",
      "metadata": {},
      "outputs": [],
      "source": [
        "import qsharp\n",
        "from qsharp.interop.qasm3 import eval, estimate, import_callable\n",
        "from qsharp import init\n",
        "init(target_profile=qsharp.TargetProfile.Base)\n",
        "\n",
        "qubit_count=8\n",
        "\n",
        "# Choose qubits to use.\n",
        "input_qubits = [cirq.GridQubit(i, 0) for i in range(qubit_count)]\n",
        "output_qubit = cirq.GridQubit(qubit_count, 0)\n",
        "\n",
        "# Pick coefficients for the oracle and create a circuit to query it.\n",
        "secret_bias_bit = random.randint(0, 1)\n",
        "secret_factor_bits = [random.randint(0, 1) for _ in range(qubit_count)]\n",
        "oracle = make_oracle(input_qubits, output_qubit, secret_factor_bits, secret_bias_bit)\n",
        "print(\n",
        "    'Secret function:\\nf(a) = '\n",
        "    f\"a·<{', '.join(str(e) for e in secret_factor_bits)}> + \"\n",
        "    f\"{secret_bias_bit} (mod 2)\"\n",
        ")\n",
        "\n",
        "circuit = make_bernstein_vazirani_circuit_with_cirq(input_qubits, output_qubit, oracle)\n",
        "\n",
        "# use QDK resource estimation on cirq circuit via QASM3\n",
        "estimate(cirq.qasm(circuit, args=cirq.QasmArgs(version=\"3.0\")))"
      ]
    },
    {
      "cell_type": "code",
      "execution_count": null,
      "id": "fd1a046a",
      "metadata": {},
      "outputs": [],
      "source": [
        "q0, q1 = cirq.LineQubit.range(2)\n",
        "circuit = cirq.Circuit(\n",
        "    cirq.H(q0),\n",
        "    cirq.measure(q0, key='a'),\n",
        "    cirq.H(q1).with_classical_controls('a'),\n",
        "    cirq.measure(q1, key='b'),\n",
        ")\n",
        "print(circuit)\n",
        "print(cirq.qasm(circuit, args=cirq.QasmArgs(version=\"3.0\")))"
      ]
    },
    {
      "cell_type": "code",
      "execution_count": null,
      "id": "e7a21606",
      "metadata": {},
      "outputs": [],
      "source": [
        "alice = cirq.NamedQubit('alice')\n",
        "bob = cirq.NamedQubit('bob')\n",
        "message = cirq.NamedQubit('_message')\n",
        "\n",
        "message_circuit = cirq.Circuit(\n",
        "    # Create the message.\n",
        "    cirq.X(message) ** 0.371,\n",
        "    cirq.Y(message) ** 0.882,\n",
        ")\n",
        "\n",
        "circuit = cirq.Circuit(\n",
        "    # Create Bell state to be shared between Alice and Bob.\n",
        "    cirq.H(alice),\n",
        "    cirq.CNOT(alice, bob),\n",
        "    # Prepare message circuit\n",
        "    message_circuit,\n",
        "    # Bell measurement of the message and Alice's entangled qubit.\n",
        "    cirq.CNOT(message, alice),\n",
        "    cirq.H(message),\n",
        "    cirq.measure(message, key='M'),\n",
        "    cirq.measure(alice, key='A'),\n",
        "    # Uses the two classical bits from the Bell measurement to recover the\n",
        "    # original quantum message on Bob's entangled qubit.\n",
        "    cirq.X(bob).with_classical_controls('A'),\n",
        "    cirq.Z(bob).with_classical_controls('M'),\n",
        ")\n",
        "print(circuit)\n",
        "print(cirq.qasm(circuit, args=cirq.QasmArgs(version=\"3.0\")))"
      ]
    },
    {
      "cell_type": "code",
      "execution_count": null,
      "id": "c29d9f86",
      "metadata": {},
      "outputs": [],
      "source": [
        "import cirq\n",
        "from qsharp.interop.qasm3 import estimate\n",
        "\n",
        "q0 = cirq.LineQubit(0)\n",
        "subcircuit = cirq.FrozenCircuit(cirq.measure(q0, key='a'), cirq.X(q0).with_classical_controls('a'))\n",
        "circuit = cirq.Circuit(\n",
        "    cirq.measure(q0, key='a'),\n",
        "    cirq.CircuitOperation(subcircuit, repetitions=2),\n",
        "    cirq.X(q0).with_classical_controls('a'),\n",
        ")\n",
        "print(cirq.qasm(circuit, args=cirq.QasmArgs(version=\"3.0\")))\n",
        "estimate(cirq.qasm(circuit, args=cirq.QasmArgs(version=\"3.0\")))"
      ]
    }
  ],
  "metadata": {
    "kernelspec": {
      "display_name": ".venv",
      "language": "python",
      "name": "python3"
    },
    "language_info": {
      "codemirror_mode": {
        "name": "ipython",
        "version": 3
      },
      "file_extension": ".py",
      "mimetype": "text/x-python",
      "name": "python",
      "nbconvert_exporter": "python",
      "pygments_lexer": "ipython3",
      "version": "3.12.9"
    }
  },
  "nbformat": 4,
  "nbformat_minor": 5
}
